{
  "nbformat": 4,
  "nbformat_minor": 0,
  "metadata": {
    "colab": {
      "name": "ImplementMe.ipynb",
      "provenance": [],
      "collapsed_sections": []
    },
    "kernelspec": {
      "name": "python3",
      "display_name": "Python 3"
    },
    "widgets": {
      "application/vnd.jupyter.widget-state+json": {
        "72cd7e50aa91430c97dd2e8339679f93": {
          "model_module": "@jupyter-widgets/controls",
          "model_name": "HBoxModel",
          "state": {
            "_view_name": "HBoxView",
            "_dom_classes": [],
            "_model_name": "HBoxModel",
            "_view_module": "@jupyter-widgets/controls",
            "_model_module_version": "1.5.0",
            "_view_count": null,
            "_view_module_version": "1.5.0",
            "box_style": "",
            "layout": "IPY_MODEL_1f22e87ef0354148be4a695d596ab130",
            "_model_module": "@jupyter-widgets/controls",
            "children": [
              "IPY_MODEL_03caa808ac2b440087a092ca8c46c5af",
              "IPY_MODEL_557fd52f230649d4bf4d22b75484994c"
            ]
          }
        },
        "1f22e87ef0354148be4a695d596ab130": {
          "model_module": "@jupyter-widgets/base",
          "model_name": "LayoutModel",
          "state": {
            "_view_name": "LayoutView",
            "grid_template_rows": null,
            "right": null,
            "justify_content": null,
            "_view_module": "@jupyter-widgets/base",
            "overflow": null,
            "_model_module_version": "1.2.0",
            "_view_count": null,
            "flex_flow": null,
            "width": null,
            "min_width": null,
            "border": null,
            "align_items": null,
            "bottom": null,
            "_model_module": "@jupyter-widgets/base",
            "top": null,
            "grid_column": null,
            "overflow_y": null,
            "overflow_x": null,
            "grid_auto_flow": null,
            "grid_area": null,
            "grid_template_columns": null,
            "flex": null,
            "_model_name": "LayoutModel",
            "justify_items": null,
            "grid_row": null,
            "max_height": null,
            "align_content": null,
            "visibility": null,
            "align_self": null,
            "height": null,
            "min_height": null,
            "padding": null,
            "grid_auto_rows": null,
            "grid_gap": null,
            "max_width": null,
            "order": null,
            "_view_module_version": "1.2.0",
            "grid_template_areas": null,
            "object_position": null,
            "object_fit": null,
            "grid_auto_columns": null,
            "margin": null,
            "display": null,
            "left": null
          }
        },
        "03caa808ac2b440087a092ca8c46c5af": {
          "model_module": "@jupyter-widgets/controls",
          "model_name": "FloatProgressModel",
          "state": {
            "_view_name": "ProgressView",
            "style": "IPY_MODEL_21c5689809ea418482b5a2545781f4b5",
            "_dom_classes": [],
            "description": "Downloading: 100%",
            "_model_name": "FloatProgressModel",
            "bar_style": "success",
            "max": 5069051,
            "_view_module": "@jupyter-widgets/controls",
            "_model_module_version": "1.5.0",
            "value": 5069051,
            "_view_count": null,
            "_view_module_version": "1.5.0",
            "orientation": "horizontal",
            "min": 0,
            "description_tooltip": null,
            "_model_module": "@jupyter-widgets/controls",
            "layout": "IPY_MODEL_9acfeeb4238840e5999e61171d1060d3"
          }
        },
        "557fd52f230649d4bf4d22b75484994c": {
          "model_module": "@jupyter-widgets/controls",
          "model_name": "HTMLModel",
          "state": {
            "_view_name": "HTMLView",
            "style": "IPY_MODEL_327b6fae8cb047679c5f6b3292ad13e1",
            "_dom_classes": [],
            "description": "",
            "_model_name": "HTMLModel",
            "placeholder": "​",
            "_view_module": "@jupyter-widgets/controls",
            "_model_module_version": "1.5.0",
            "value": " 5.07M/5.07M [00:02&lt;00:00, 2.11MB/s]",
            "_view_count": null,
            "_view_module_version": "1.5.0",
            "description_tooltip": null,
            "_model_module": "@jupyter-widgets/controls",
            "layout": "IPY_MODEL_b6ad9617f4454876a2442f55056bd84b"
          }
        },
        "21c5689809ea418482b5a2545781f4b5": {
          "model_module": "@jupyter-widgets/controls",
          "model_name": "ProgressStyleModel",
          "state": {
            "_view_name": "StyleView",
            "_model_name": "ProgressStyleModel",
            "description_width": "initial",
            "_view_module": "@jupyter-widgets/base",
            "_model_module_version": "1.5.0",
            "_view_count": null,
            "_view_module_version": "1.2.0",
            "bar_color": null,
            "_model_module": "@jupyter-widgets/controls"
          }
        },
        "9acfeeb4238840e5999e61171d1060d3": {
          "model_module": "@jupyter-widgets/base",
          "model_name": "LayoutModel",
          "state": {
            "_view_name": "LayoutView",
            "grid_template_rows": null,
            "right": null,
            "justify_content": null,
            "_view_module": "@jupyter-widgets/base",
            "overflow": null,
            "_model_module_version": "1.2.0",
            "_view_count": null,
            "flex_flow": null,
            "width": null,
            "min_width": null,
            "border": null,
            "align_items": null,
            "bottom": null,
            "_model_module": "@jupyter-widgets/base",
            "top": null,
            "grid_column": null,
            "overflow_y": null,
            "overflow_x": null,
            "grid_auto_flow": null,
            "grid_area": null,
            "grid_template_columns": null,
            "flex": null,
            "_model_name": "LayoutModel",
            "justify_items": null,
            "grid_row": null,
            "max_height": null,
            "align_content": null,
            "visibility": null,
            "align_self": null,
            "height": null,
            "min_height": null,
            "padding": null,
            "grid_auto_rows": null,
            "grid_gap": null,
            "max_width": null,
            "order": null,
            "_view_module_version": "1.2.0",
            "grid_template_areas": null,
            "object_position": null,
            "object_fit": null,
            "grid_auto_columns": null,
            "margin": null,
            "display": null,
            "left": null
          }
        },
        "327b6fae8cb047679c5f6b3292ad13e1": {
          "model_module": "@jupyter-widgets/controls",
          "model_name": "DescriptionStyleModel",
          "state": {
            "_view_name": "StyleView",
            "_model_name": "DescriptionStyleModel",
            "description_width": "",
            "_view_module": "@jupyter-widgets/base",
            "_model_module_version": "1.5.0",
            "_view_count": null,
            "_view_module_version": "1.2.0",
            "_model_module": "@jupyter-widgets/controls"
          }
        },
        "b6ad9617f4454876a2442f55056bd84b": {
          "model_module": "@jupyter-widgets/base",
          "model_name": "LayoutModel",
          "state": {
            "_view_name": "LayoutView",
            "grid_template_rows": null,
            "right": null,
            "justify_content": null,
            "_view_module": "@jupyter-widgets/base",
            "overflow": null,
            "_model_module_version": "1.2.0",
            "_view_count": null,
            "flex_flow": null,
            "width": null,
            "min_width": null,
            "border": null,
            "align_items": null,
            "bottom": null,
            "_model_module": "@jupyter-widgets/base",
            "top": null,
            "grid_column": null,
            "overflow_y": null,
            "overflow_x": null,
            "grid_auto_flow": null,
            "grid_area": null,
            "grid_template_columns": null,
            "flex": null,
            "_model_name": "LayoutModel",
            "justify_items": null,
            "grid_row": null,
            "max_height": null,
            "align_content": null,
            "visibility": null,
            "align_self": null,
            "height": null,
            "min_height": null,
            "padding": null,
            "grid_auto_rows": null,
            "grid_gap": null,
            "max_width": null,
            "order": null,
            "_view_module_version": "1.2.0",
            "grid_template_areas": null,
            "object_position": null,
            "object_fit": null,
            "grid_auto_columns": null,
            "margin": null,
            "display": null,
            "left": null
          }
        },
        "fbea163b8554476aa345e6599d65baa6": {
          "model_module": "@jupyter-widgets/controls",
          "model_name": "HBoxModel",
          "state": {
            "_view_name": "HBoxView",
            "_dom_classes": [],
            "_model_name": "HBoxModel",
            "_view_module": "@jupyter-widgets/controls",
            "_model_module_version": "1.5.0",
            "_view_count": null,
            "_view_module_version": "1.5.0",
            "box_style": "",
            "layout": "IPY_MODEL_9a09f863f5e84e76acdf4e6b6e408bc9",
            "_model_module": "@jupyter-widgets/controls",
            "children": [
              "IPY_MODEL_4ce935fbb6084268bf14a126735ffc15",
              "IPY_MODEL_229dbd4f0eb444a0a7af4574684836a1"
            ]
          }
        },
        "9a09f863f5e84e76acdf4e6b6e408bc9": {
          "model_module": "@jupyter-widgets/base",
          "model_name": "LayoutModel",
          "state": {
            "_view_name": "LayoutView",
            "grid_template_rows": null,
            "right": null,
            "justify_content": null,
            "_view_module": "@jupyter-widgets/base",
            "overflow": null,
            "_model_module_version": "1.2.0",
            "_view_count": null,
            "flex_flow": null,
            "width": null,
            "min_width": null,
            "border": null,
            "align_items": null,
            "bottom": null,
            "_model_module": "@jupyter-widgets/base",
            "top": null,
            "grid_column": null,
            "overflow_y": null,
            "overflow_x": null,
            "grid_auto_flow": null,
            "grid_area": null,
            "grid_template_columns": null,
            "flex": null,
            "_model_name": "LayoutModel",
            "justify_items": null,
            "grid_row": null,
            "max_height": null,
            "align_content": null,
            "visibility": null,
            "align_self": null,
            "height": null,
            "min_height": null,
            "padding": null,
            "grid_auto_rows": null,
            "grid_gap": null,
            "max_width": null,
            "order": null,
            "_view_module_version": "1.2.0",
            "grid_template_areas": null,
            "object_position": null,
            "object_fit": null,
            "grid_auto_columns": null,
            "margin": null,
            "display": null,
            "left": null
          }
        },
        "4ce935fbb6084268bf14a126735ffc15": {
          "model_module": "@jupyter-widgets/controls",
          "model_name": "FloatProgressModel",
          "state": {
            "_view_name": "ProgressView",
            "style": "IPY_MODEL_721a69100f0049d297cbdcba008b76e5",
            "_dom_classes": [],
            "description": "Downloading: 100%",
            "_model_name": "FloatProgressModel",
            "bar_style": "success",
            "max": 513,
            "_view_module": "@jupyter-widgets/controls",
            "_model_module_version": "1.5.0",
            "value": 513,
            "_view_count": null,
            "_view_module_version": "1.5.0",
            "orientation": "horizontal",
            "min": 0,
            "description_tooltip": null,
            "_model_module": "@jupyter-widgets/controls",
            "layout": "IPY_MODEL_8d70a39b280846019c231a8f39368482"
          }
        },
        "229dbd4f0eb444a0a7af4574684836a1": {
          "model_module": "@jupyter-widgets/controls",
          "model_name": "HTMLModel",
          "state": {
            "_view_name": "HTMLView",
            "style": "IPY_MODEL_d4730b1c514244428280bf4c9befff8c",
            "_dom_classes": [],
            "description": "",
            "_model_name": "HTMLModel",
            "placeholder": "​",
            "_view_module": "@jupyter-widgets/controls",
            "_model_module_version": "1.5.0",
            "value": " 513/513 [00:00&lt;00:00, 10.5kB/s]",
            "_view_count": null,
            "_view_module_version": "1.5.0",
            "description_tooltip": null,
            "_model_module": "@jupyter-widgets/controls",
            "layout": "IPY_MODEL_24f22f746deb4acea355bf3b3a7a8d07"
          }
        },
        "721a69100f0049d297cbdcba008b76e5": {
          "model_module": "@jupyter-widgets/controls",
          "model_name": "ProgressStyleModel",
          "state": {
            "_view_name": "StyleView",
            "_model_name": "ProgressStyleModel",
            "description_width": "initial",
            "_view_module": "@jupyter-widgets/base",
            "_model_module_version": "1.5.0",
            "_view_count": null,
            "_view_module_version": "1.2.0",
            "bar_color": null,
            "_model_module": "@jupyter-widgets/controls"
          }
        },
        "8d70a39b280846019c231a8f39368482": {
          "model_module": "@jupyter-widgets/base",
          "model_name": "LayoutModel",
          "state": {
            "_view_name": "LayoutView",
            "grid_template_rows": null,
            "right": null,
            "justify_content": null,
            "_view_module": "@jupyter-widgets/base",
            "overflow": null,
            "_model_module_version": "1.2.0",
            "_view_count": null,
            "flex_flow": null,
            "width": null,
            "min_width": null,
            "border": null,
            "align_items": null,
            "bottom": null,
            "_model_module": "@jupyter-widgets/base",
            "top": null,
            "grid_column": null,
            "overflow_y": null,
            "overflow_x": null,
            "grid_auto_flow": null,
            "grid_area": null,
            "grid_template_columns": null,
            "flex": null,
            "_model_name": "LayoutModel",
            "justify_items": null,
            "grid_row": null,
            "max_height": null,
            "align_content": null,
            "visibility": null,
            "align_self": null,
            "height": null,
            "min_height": null,
            "padding": null,
            "grid_auto_rows": null,
            "grid_gap": null,
            "max_width": null,
            "order": null,
            "_view_module_version": "1.2.0",
            "grid_template_areas": null,
            "object_position": null,
            "object_fit": null,
            "grid_auto_columns": null,
            "margin": null,
            "display": null,
            "left": null
          }
        },
        "d4730b1c514244428280bf4c9befff8c": {
          "model_module": "@jupyter-widgets/controls",
          "model_name": "DescriptionStyleModel",
          "state": {
            "_view_name": "StyleView",
            "_model_name": "DescriptionStyleModel",
            "description_width": "",
            "_view_module": "@jupyter-widgets/base",
            "_model_module_version": "1.5.0",
            "_view_count": null,
            "_view_module_version": "1.2.0",
            "_model_module": "@jupyter-widgets/controls"
          }
        },
        "24f22f746deb4acea355bf3b3a7a8d07": {
          "model_module": "@jupyter-widgets/base",
          "model_name": "LayoutModel",
          "state": {
            "_view_name": "LayoutView",
            "grid_template_rows": null,
            "right": null,
            "justify_content": null,
            "_view_module": "@jupyter-widgets/base",
            "overflow": null,
            "_model_module_version": "1.2.0",
            "_view_count": null,
            "flex_flow": null,
            "width": null,
            "min_width": null,
            "border": null,
            "align_items": null,
            "bottom": null,
            "_model_module": "@jupyter-widgets/base",
            "top": null,
            "grid_column": null,
            "overflow_y": null,
            "overflow_x": null,
            "grid_auto_flow": null,
            "grid_area": null,
            "grid_template_columns": null,
            "flex": null,
            "_model_name": "LayoutModel",
            "justify_items": null,
            "grid_row": null,
            "max_height": null,
            "align_content": null,
            "visibility": null,
            "align_self": null,
            "height": null,
            "min_height": null,
            "padding": null,
            "grid_auto_rows": null,
            "grid_gap": null,
            "max_width": null,
            "order": null,
            "_view_module_version": "1.2.0",
            "grid_template_areas": null,
            "object_position": null,
            "object_fit": null,
            "grid_auto_columns": null,
            "margin": null,
            "display": null,
            "left": null
          }
        },
        "aa73233ea1594a48b12ddccc56692bb1": {
          "model_module": "@jupyter-widgets/controls",
          "model_name": "HBoxModel",
          "state": {
            "_view_name": "HBoxView",
            "_dom_classes": [],
            "_model_name": "HBoxModel",
            "_view_module": "@jupyter-widgets/controls",
            "_model_module_version": "1.5.0",
            "_view_count": null,
            "_view_module_version": "1.5.0",
            "box_style": "",
            "layout": "IPY_MODEL_72a872c4e0424407b58fd5a993499c7f",
            "_model_module": "@jupyter-widgets/controls",
            "children": [
              "IPY_MODEL_eb01f83896eb4188a9d890dfae82a11b",
              "IPY_MODEL_373a202984f54caaae12ee70c7bcc187"
            ]
          }
        },
        "72a872c4e0424407b58fd5a993499c7f": {
          "model_module": "@jupyter-widgets/base",
          "model_name": "LayoutModel",
          "state": {
            "_view_name": "LayoutView",
            "grid_template_rows": null,
            "right": null,
            "justify_content": null,
            "_view_module": "@jupyter-widgets/base",
            "overflow": null,
            "_model_module_version": "1.2.0",
            "_view_count": null,
            "flex_flow": null,
            "width": null,
            "min_width": null,
            "border": null,
            "align_items": null,
            "bottom": null,
            "_model_module": "@jupyter-widgets/base",
            "top": null,
            "grid_column": null,
            "overflow_y": null,
            "overflow_x": null,
            "grid_auto_flow": null,
            "grid_area": null,
            "grid_template_columns": null,
            "flex": null,
            "_model_name": "LayoutModel",
            "justify_items": null,
            "grid_row": null,
            "max_height": null,
            "align_content": null,
            "visibility": null,
            "align_self": null,
            "height": null,
            "min_height": null,
            "padding": null,
            "grid_auto_rows": null,
            "grid_gap": null,
            "max_width": null,
            "order": null,
            "_view_module_version": "1.2.0",
            "grid_template_areas": null,
            "object_position": null,
            "object_fit": null,
            "grid_auto_columns": null,
            "margin": null,
            "display": null,
            "left": null
          }
        },
        "eb01f83896eb4188a9d890dfae82a11b": {
          "model_module": "@jupyter-widgets/controls",
          "model_name": "FloatProgressModel",
          "state": {
            "_view_name": "ProgressView",
            "style": "IPY_MODEL_f697c37d27d74db98b6aad6b5193da38",
            "_dom_classes": [],
            "description": "Downloading: 100%",
            "_model_name": "FloatProgressModel",
            "bar_style": "success",
            "max": 3271420488,
            "_view_module": "@jupyter-widgets/controls",
            "_model_module_version": "1.5.0",
            "value": 3271420488,
            "_view_count": null,
            "_view_module_version": "1.5.0",
            "orientation": "horizontal",
            "min": 0,
            "description_tooltip": null,
            "_model_module": "@jupyter-widgets/controls",
            "layout": "IPY_MODEL_31d578bd3a404ed3a162db5ff6f5b0a1"
          }
        },
        "373a202984f54caaae12ee70c7bcc187": {
          "model_module": "@jupyter-widgets/controls",
          "model_name": "HTMLModel",
          "state": {
            "_view_name": "HTMLView",
            "style": "IPY_MODEL_c969f1f57dc5411cb54820bebbbed1f3",
            "_dom_classes": [],
            "description": "",
            "_model_name": "HTMLModel",
            "placeholder": "​",
            "_view_module": "@jupyter-widgets/controls",
            "_model_module_version": "1.5.0",
            "value": " 3.27G/3.27G [00:51&lt;00:00, 63.7MB/s]",
            "_view_count": null,
            "_view_module_version": "1.5.0",
            "description_tooltip": null,
            "_model_module": "@jupyter-widgets/controls",
            "layout": "IPY_MODEL_0481e997621c4bcaab2facdc7eb84ce4"
          }
        },
        "f697c37d27d74db98b6aad6b5193da38": {
          "model_module": "@jupyter-widgets/controls",
          "model_name": "ProgressStyleModel",
          "state": {
            "_view_name": "StyleView",
            "_model_name": "ProgressStyleModel",
            "description_width": "initial",
            "_view_module": "@jupyter-widgets/base",
            "_model_module_version": "1.5.0",
            "_view_count": null,
            "_view_module_version": "1.2.0",
            "bar_color": null,
            "_model_module": "@jupyter-widgets/controls"
          }
        },
        "31d578bd3a404ed3a162db5ff6f5b0a1": {
          "model_module": "@jupyter-widgets/base",
          "model_name": "LayoutModel",
          "state": {
            "_view_name": "LayoutView",
            "grid_template_rows": null,
            "right": null,
            "justify_content": null,
            "_view_module": "@jupyter-widgets/base",
            "overflow": null,
            "_model_module_version": "1.2.0",
            "_view_count": null,
            "flex_flow": null,
            "width": null,
            "min_width": null,
            "border": null,
            "align_items": null,
            "bottom": null,
            "_model_module": "@jupyter-widgets/base",
            "top": null,
            "grid_column": null,
            "overflow_y": null,
            "overflow_x": null,
            "grid_auto_flow": null,
            "grid_area": null,
            "grid_template_columns": null,
            "flex": null,
            "_model_name": "LayoutModel",
            "justify_items": null,
            "grid_row": null,
            "max_height": null,
            "align_content": null,
            "visibility": null,
            "align_self": null,
            "height": null,
            "min_height": null,
            "padding": null,
            "grid_auto_rows": null,
            "grid_gap": null,
            "max_width": null,
            "order": null,
            "_view_module_version": "1.2.0",
            "grid_template_areas": null,
            "object_position": null,
            "object_fit": null,
            "grid_auto_columns": null,
            "margin": null,
            "display": null,
            "left": null
          }
        },
        "c969f1f57dc5411cb54820bebbbed1f3": {
          "model_module": "@jupyter-widgets/controls",
          "model_name": "DescriptionStyleModel",
          "state": {
            "_view_name": "StyleView",
            "_model_name": "DescriptionStyleModel",
            "description_width": "",
            "_view_module": "@jupyter-widgets/base",
            "_model_module_version": "1.5.0",
            "_view_count": null,
            "_view_module_version": "1.2.0",
            "_model_module": "@jupyter-widgets/controls"
          }
        },
        "0481e997621c4bcaab2facdc7eb84ce4": {
          "model_module": "@jupyter-widgets/base",
          "model_name": "LayoutModel",
          "state": {
            "_view_name": "LayoutView",
            "grid_template_rows": null,
            "right": null,
            "justify_content": null,
            "_view_module": "@jupyter-widgets/base",
            "overflow": null,
            "_model_module_version": "1.2.0",
            "_view_count": null,
            "flex_flow": null,
            "width": null,
            "min_width": null,
            "border": null,
            "align_items": null,
            "bottom": null,
            "_model_module": "@jupyter-widgets/base",
            "top": null,
            "grid_column": null,
            "overflow_y": null,
            "overflow_x": null,
            "grid_auto_flow": null,
            "grid_area": null,
            "grid_template_columns": null,
            "flex": null,
            "_model_name": "LayoutModel",
            "justify_items": null,
            "grid_row": null,
            "max_height": null,
            "align_content": null,
            "visibility": null,
            "align_self": null,
            "height": null,
            "min_height": null,
            "padding": null,
            "grid_auto_rows": null,
            "grid_gap": null,
            "max_width": null,
            "order": null,
            "_view_module_version": "1.2.0",
            "grid_template_areas": null,
            "object_position": null,
            "object_fit": null,
            "grid_auto_columns": null,
            "margin": null,
            "display": null,
            "left": null
          }
        }
      }
    }
  },
  "cells": [
    {
      "cell_type": "code",
      "metadata": {
        "id": "cqjojD9GBUln",
        "colab_type": "code",
        "colab": {
          "base_uri": "https://localhost:8080/",
          "height": 33
        },
        "outputId": "d9033459-5a2a-4d91-9595-c50481e87675"
      },
      "source": [
        "from google.colab import drive ; drive.mount(\"/content/drive\")"
      ],
      "execution_count": null,
      "outputs": [
        {
          "output_type": "stream",
          "text": [
            "Mounted at /content/drive\n"
          ],
          "name": "stdout"
        }
      ]
    },
    {
      "cell_type": "code",
      "metadata": {
        "id": "dX0HEqZINwX1",
        "colab_type": "code",
        "colab": {}
      },
      "source": [
        ""
      ],
      "execution_count": null,
      "outputs": []
    },
    {
      "cell_type": "code",
      "metadata": {
        "id": "rvkG3imRLOPe",
        "colab_type": "code",
        "colab": {
          "base_uri": "https://localhost:8080/",
          "height": 590
        },
        "outputId": "5ced3430-e7c5-4e8a-a00c-5a31397763da"
      },
      "source": [
        "!pip install transformers"
      ],
      "execution_count": null,
      "outputs": [
        {
          "output_type": "stream",
          "text": [
            "Collecting transformers\n",
            "\u001b[?25l  Downloading https://files.pythonhosted.org/packages/ae/05/c8c55b600308dc04e95100dc8ad8a244dd800fe75dfafcf1d6348c6f6209/transformers-3.1.0-py3-none-any.whl (884kB)\n",
            "\u001b[K     |████████████████████████████████| 890kB 3.5MB/s \n",
            "\u001b[?25hRequirement already satisfied: tqdm>=4.27 in /usr/local/lib/python3.6/dist-packages (from transformers) (4.41.1)\n",
            "Requirement already satisfied: requests in /usr/local/lib/python3.6/dist-packages (from transformers) (2.23.0)\n",
            "Requirement already satisfied: packaging in /usr/local/lib/python3.6/dist-packages (from transformers) (20.4)\n",
            "Collecting sentencepiece!=0.1.92\n",
            "\u001b[?25l  Downloading https://files.pythonhosted.org/packages/d4/a4/d0a884c4300004a78cca907a6ff9a5e9fe4f090f5d95ab341c53d28cbc58/sentencepiece-0.1.91-cp36-cp36m-manylinux1_x86_64.whl (1.1MB)\n",
            "\u001b[K     |████████████████████████████████| 1.1MB 16.7MB/s \n",
            "\u001b[?25hCollecting tokenizers==0.8.1.rc2\n",
            "\u001b[?25l  Downloading https://files.pythonhosted.org/packages/80/83/8b9fccb9e48eeb575ee19179e2bdde0ee9a1904f97de5f02d19016b8804f/tokenizers-0.8.1rc2-cp36-cp36m-manylinux1_x86_64.whl (3.0MB)\n",
            "\u001b[K     |████████████████████████████████| 3.0MB 24.8MB/s \n",
            "\u001b[?25hRequirement already satisfied: dataclasses; python_version < \"3.7\" in /usr/local/lib/python3.6/dist-packages (from transformers) (0.7)\n",
            "Requirement already satisfied: filelock in /usr/local/lib/python3.6/dist-packages (from transformers) (3.0.12)\n",
            "Requirement already satisfied: regex!=2019.12.17 in /usr/local/lib/python3.6/dist-packages (from transformers) (2019.12.20)\n",
            "Collecting sacremoses\n",
            "\u001b[?25l  Downloading https://files.pythonhosted.org/packages/7d/34/09d19aff26edcc8eb2a01bed8e98f13a1537005d31e95233fd48216eed10/sacremoses-0.0.43.tar.gz (883kB)\n",
            "\u001b[K     |████████████████████████████████| 890kB 44.2MB/s \n",
            "\u001b[?25hRequirement already satisfied: numpy in /usr/local/lib/python3.6/dist-packages (from transformers) (1.18.5)\n",
            "Requirement already satisfied: chardet<4,>=3.0.2 in /usr/local/lib/python3.6/dist-packages (from requests->transformers) (3.0.4)\n",
            "Requirement already satisfied: certifi>=2017.4.17 in /usr/local/lib/python3.6/dist-packages (from requests->transformers) (2020.6.20)\n",
            "Requirement already satisfied: urllib3!=1.25.0,!=1.25.1,<1.26,>=1.21.1 in /usr/local/lib/python3.6/dist-packages (from requests->transformers) (1.24.3)\n",
            "Requirement already satisfied: idna<3,>=2.5 in /usr/local/lib/python3.6/dist-packages (from requests->transformers) (2.10)\n",
            "Requirement already satisfied: pyparsing>=2.0.2 in /usr/local/lib/python3.6/dist-packages (from packaging->transformers) (2.4.7)\n",
            "Requirement already satisfied: six in /usr/local/lib/python3.6/dist-packages (from packaging->transformers) (1.15.0)\n",
            "Requirement already satisfied: click in /usr/local/lib/python3.6/dist-packages (from sacremoses->transformers) (7.1.2)\n",
            "Requirement already satisfied: joblib in /usr/local/lib/python3.6/dist-packages (from sacremoses->transformers) (0.16.0)\n",
            "Building wheels for collected packages: sacremoses\n",
            "  Building wheel for sacremoses (setup.py) ... \u001b[?25l\u001b[?25hdone\n",
            "  Created wheel for sacremoses: filename=sacremoses-0.0.43-cp36-none-any.whl size=893257 sha256=fd585116b05ebf37427fb220247dcc8884a9a1dec3a7e3097250cd5720b46740\n",
            "  Stored in directory: /root/.cache/pip/wheels/29/3c/fd/7ce5c3f0666dab31a50123635e6fb5e19ceb42ce38d4e58f45\n",
            "Successfully built sacremoses\n",
            "Installing collected packages: sentencepiece, tokenizers, sacremoses, transformers\n",
            "Successfully installed sacremoses-0.0.43 sentencepiece-0.1.91 tokenizers-0.8.1rc2 transformers-3.1.0\n"
          ],
          "name": "stdout"
        }
      ]
    },
    {
      "cell_type": "code",
      "metadata": {
        "id": "chzn99qWGPoP",
        "colab_type": "code",
        "colab": {
          "base_uri": "https://localhost:8080/",
          "height": 86
        },
        "outputId": "a1598874-7293-4cce-8e6e-a80100612858"
      },
      "source": [
        "import pandas as pd\n",
        "import numpy as np\n",
        "import matplotlib.pyplot as plt\n",
        "import tensorflow as tf\n",
        "from transformers import *\n",
        "import seaborn as sns\n",
        "pd.set_option(\"max_rows\",None)\n",
        "print(f\"tensor_ver {tf.__version__}\")"
      ],
      "execution_count": null,
      "outputs": [
        {
          "output_type": "stream",
          "text": [
            "tensor_ver 2.3.0\n"
          ],
          "name": "stdout"
        },
        {
          "output_type": "stream",
          "text": [
            "/usr/local/lib/python3.6/dist-packages/statsmodels/tools/_testing.py:19: FutureWarning: pandas.util.testing is deprecated. Use the functions in the public API at pandas.testing instead.\n",
            "  import pandas.util.testing as tm\n"
          ],
          "name": "stderr"
        }
      ]
    },
    {
      "cell_type": "code",
      "metadata": {
        "id": "1Me69n8_GjN-",
        "colab_type": "code",
        "colab": {
          "base_uri": "https://localhost:8080/",
          "height": 622
        },
        "outputId": "55fd1822-a0ad-4e6e-d020-ed8e8309ec59"
      },
      "source": [
        "df = pd.read_excel(\"/content/drive/My Drive/dataset_analisis.xlsx\")\n",
        "df = df[[\"list_text_after_stop_word\"]]\n",
        "df"
      ],
      "execution_count": null,
      "outputs": [
        {
          "output_type": "execute_result",
          "data": {
            "text/html": [
              "<div>\n",
              "<style scoped>\n",
              "    .dataframe tbody tr th:only-of-type {\n",
              "        vertical-align: middle;\n",
              "    }\n",
              "\n",
              "    .dataframe tbody tr th {\n",
              "        vertical-align: top;\n",
              "    }\n",
              "\n",
              "    .dataframe thead th {\n",
              "        text-align: right;\n",
              "    }\n",
              "</style>\n",
              "<table border=\"1\" class=\"dataframe\">\n",
              "  <thead>\n",
              "    <tr style=\"text-align: right;\">\n",
              "      <th></th>\n",
              "      <th>list_text_after_stop_word</th>\n",
              "    </tr>\n",
              "  </thead>\n",
              "  <tbody>\n",
              "    <tr>\n",
              "      <th>0</th>\n",
              "      <td>merasakan pjj gaa suruh ngerjain tugas segambreng</td>\n",
              "    </tr>\n",
              "    <tr>\n",
              "      <th>1</th>\n",
              "      <td>pjj ip turun</td>\n",
              "    </tr>\n",
              "    <tr>\n",
              "      <th>2</th>\n",
              "      <td>pjj pjj tai anjing</td>\n",
              "    </tr>\n",
              "    <tr>\n",
              "      <th>3</th>\n",
              "      <td>woi malas pjj</td>\n",
              "    </tr>\n",
              "    <tr>\n",
              "      <th>4</th>\n",
              "      <td>oii ajarin tidur dibawah jam kg tidur anjing t...</td>\n",
              "    </tr>\n",
              "    <tr>\n",
              "      <th>5</th>\n",
              "      <td>a gila anjing pjj tidak masuk keotak</td>\n",
              "    </tr>\n",
              "    <tr>\n",
              "      <th>6</th>\n",
              "      <td>ngambis ujian tulis berbasis komputer tidak pjj</td>\n",
              "    </tr>\n",
              "    <tr>\n",
              "      <th>7</th>\n",
              "      <td>pjj tidak masuk otak</td>\n",
              "    </tr>\n",
              "    <tr>\n",
              "      <th>8</th>\n",
              "      <td>anjing bodoh pjj nilai uh remed</td>\n",
              "    </tr>\n",
              "    <tr>\n",
              "      <th>9</th>\n",
              "      <td>minus kayaknya nambah karena pjj deh</td>\n",
              "    </tr>\n",
              "    <tr>\n",
              "      <th>10</th>\n",
              "      <td>plusnya orang iya enak belajar kepacu belajarn...</td>\n",
              "    </tr>\n",
              "    <tr>\n",
              "      <th>11</th>\n",
              "      <td>enaklebih nyaman</td>\n",
              "    </tr>\n",
              "    <tr>\n",
              "      <th>12</th>\n",
              "      <td>bantuan kuota internet gratis meringankan beba...</td>\n",
              "    </tr>\n",
              "    <tr>\n",
              "      <th>13</th>\n",
              "      <td>keren salah polsek papua sediakan wifi gratis ...</td>\n",
              "    </tr>\n",
              "    <tr>\n",
              "      <th>14</th>\n",
              "      <td>kuliah belajar daring semangat iya</td>\n",
              "    </tr>\n",
              "    <tr>\n",
              "      <th>15</th>\n",
              "      <td>mahasiswa so far aman aman sih belajarnya tida...</td>\n",
              "    </tr>\n",
              "    <tr>\n",
              "      <th>16</th>\n",
              "      <td>problemnya bukan belajar jarak jauh jarak prob...</td>\n",
              "    </tr>\n",
              "    <tr>\n",
              "      <th>17</th>\n",
              "      <td>pjj layanan pendidikan aman iya teknologi bela...</td>\n",
              "    </tr>\n",
              "    <tr>\n",
              "      <th>18</th>\n",
              "      <td>berkomitmen mendukung program mengajar belajar...</td>\n",
              "    </tr>\n",
              "    <tr>\n",
              "      <th>19</th>\n",
              "      <td>sdm mengisi insentifnya terang pribadi setuju ...</td>\n",
              "    </tr>\n",
              "  </tbody>\n",
              "</table>\n",
              "</div>"
            ],
            "text/plain": [
              "                            list_text_after_stop_word\n",
              "0   merasakan pjj gaa suruh ngerjain tugas segambreng\n",
              "1                                        pjj ip turun\n",
              "2                                  pjj pjj tai anjing\n",
              "3                                       woi malas pjj\n",
              "4   oii ajarin tidur dibawah jam kg tidur anjing t...\n",
              "5                a gila anjing pjj tidak masuk keotak\n",
              "6     ngambis ujian tulis berbasis komputer tidak pjj\n",
              "7                                pjj tidak masuk otak\n",
              "8                     anjing bodoh pjj nilai uh remed\n",
              "9                minus kayaknya nambah karena pjj deh\n",
              "10  plusnya orang iya enak belajar kepacu belajarn...\n",
              "11                                   enaklebih nyaman\n",
              "12  bantuan kuota internet gratis meringankan beba...\n",
              "13  keren salah polsek papua sediakan wifi gratis ...\n",
              "14                 kuliah belajar daring semangat iya\n",
              "15  mahasiswa so far aman aman sih belajarnya tida...\n",
              "16  problemnya bukan belajar jarak jauh jarak prob...\n",
              "17  pjj layanan pendidikan aman iya teknologi bela...\n",
              "18  berkomitmen mendukung program mengajar belajar...\n",
              "19  sdm mengisi insentifnya terang pribadi setuju ..."
            ]
          },
          "metadata": {
            "tags": []
          },
          "execution_count": 4
        }
      ]
    },
    {
      "cell_type": "code",
      "metadata": {
        "id": "leIy_tsPRbTx",
        "colab_type": "code",
        "colab": {
          "base_uri": "https://localhost:8080/",
          "height": 65,
          "referenced_widgets": [
            "72cd7e50aa91430c97dd2e8339679f93",
            "1f22e87ef0354148be4a695d596ab130",
            "03caa808ac2b440087a092ca8c46c5af",
            "557fd52f230649d4bf4d22b75484994c",
            "21c5689809ea418482b5a2545781f4b5",
            "9acfeeb4238840e5999e61171d1060d3",
            "327b6fae8cb047679c5f6b3292ad13e1",
            "b6ad9617f4454876a2442f55056bd84b"
          ]
        },
        "outputId": "438deeb7-4f2f-4629-a0d0-78709d1a9d32"
      },
      "source": [
        "tokenizer = XLMRobertaTokenizer.from_pretrained(\"jplu/tf-xlm-roberta-base\")"
      ],
      "execution_count": null,
      "outputs": [
        {
          "output_type": "display_data",
          "data": {
            "application/vnd.jupyter.widget-view+json": {
              "model_id": "72cd7e50aa91430c97dd2e8339679f93",
              "version_minor": 0,
              "version_major": 2
            },
            "text/plain": [
              "HBox(children=(FloatProgress(value=0.0, description='Downloading', max=5069051.0, style=ProgressStyle(descript…"
            ]
          },
          "metadata": {
            "tags": []
          }
        },
        {
          "output_type": "stream",
          "text": [
            "\n"
          ],
          "name": "stdout"
        }
      ]
    },
    {
      "cell_type": "code",
      "metadata": {
        "id": "JWyCkAfGLU9b",
        "colab_type": "code",
        "colab": {
          "base_uri": "https://localhost:8080/",
          "height": 183
        },
        "outputId": "aa08ba60-eb46-43cd-e796-efa9e3941917"
      },
      "source": [
        "def regular_encode(texts, tokenizer = tokenizer, maxlen=128):\n",
        "    enc_di = tokenizer.batch_encode_plus(\n",
        "        texts, \n",
        "        max_length=maxlen,\n",
        "        return_attention_mask = True,\n",
        "        return_token_type_ids = True,\n",
        "        pad_to_max_length = True,\n",
        "        truncation = True\n",
        "    )\n",
        "    return np.array(enc_di[\"input_ids\"])\n",
        "EncodedDataset = regular_encode(df[\"list_text_after_stop_word\"].values)\n",
        "\n",
        "EncodedDataset"
      ],
      "execution_count": null,
      "outputs": [
        {
          "output_type": "stream",
          "text": [
            "/usr/local/lib/python3.6/dist-packages/transformers/tokenization_utils_base.py:1770: FutureWarning: The `pad_to_max_length` argument is deprecated and will be removed in a future version, use `padding=True` or `padding='longest'` to pad to the longest sequence in the batch, or use `padding='max_length'` to pad to a max length. In this case, you can give a specific length with `max_length` (e.g. `max_length=45`) or leave max_length to None to pad to the maximal input size of the model (e.g. 512 for Bert).\n",
            "  FutureWarning,\n"
          ],
          "name": "stderr"
        },
        {
          "output_type": "execute_result",
          "data": {
            "text/plain": [
              "array([[    0, 67989,   915, ...,     1,     1,     1],\n",
              "       [    0,   915, 69136, ...,     1,     1,     1],\n",
              "       [    0,   915, 69136, ...,     1,     1,     1],\n",
              "       ...,\n",
              "       [    0,   915, 69136, ...,     1,     1,     1],\n",
              "       [    0,   770,  1772, ...,     1,     1,     1],\n",
              "       [    0,    91,    71, ...,     1,     1,     1]])"
            ]
          },
          "metadata": {
            "tags": []
          },
          "execution_count": 6
        }
      ]
    },
    {
      "cell_type": "code",
      "metadata": {
        "id": "5r1BBPURRtR6",
        "colab_type": "code",
        "colab": {}
      },
      "source": [
        "MAX_LEN = 128"
      ],
      "execution_count": null,
      "outputs": []
    },
    {
      "cell_type": "code",
      "metadata": {
        "id": "yi32tHEvG_1k",
        "colab_type": "code",
        "colab": {
          "base_uri": "https://localhost:8080/",
          "height": 637,
          "referenced_widgets": [
            "fbea163b8554476aa345e6599d65baa6",
            "9a09f863f5e84e76acdf4e6b6e408bc9",
            "4ce935fbb6084268bf14a126735ffc15",
            "229dbd4f0eb444a0a7af4574684836a1",
            "721a69100f0049d297cbdcba008b76e5",
            "8d70a39b280846019c231a8f39368482",
            "d4730b1c514244428280bf4c9befff8c",
            "24f22f746deb4acea355bf3b3a7a8d07",
            "aa73233ea1594a48b12ddccc56692bb1",
            "72a872c4e0424407b58fd5a993499c7f",
            "eb01f83896eb4188a9d890dfae82a11b",
            "373a202984f54caaae12ee70c7bcc187",
            "f697c37d27d74db98b6aad6b5193da38",
            "31d578bd3a404ed3a162db5ff6f5b0a1",
            "c969f1f57dc5411cb54820bebbbed1f3",
            "0481e997621c4bcaab2facdc7eb84ce4"
          ]
        },
        "outputId": "c7954a38-fdbc-4342-8316-139c56f94bf8"
      },
      "source": [
        "import keras\n",
        "def main_model():\n",
        "  config = XLMRobertaConfig.from_pretrained(\"jplu/tf-xlm-roberta-large\")\n",
        "  #config.num_labels = 2\n",
        "  METRICS = [\n",
        "      keras.metrics.TruePositives(name='tp'),\n",
        "      keras.metrics.FalsePositives(name='fp'),\n",
        "      keras.metrics.TrueNegatives(name='tn'),\n",
        "      keras.metrics.FalseNegatives(name='fn'), \n",
        "      keras.metrics.BinaryAccuracy(name='accuracy'),\n",
        "      keras.metrics.Precision(name='precision'),\n",
        "      keras.metrics.Recall(name='recall'),\n",
        "      keras.metrics.AUC(name='auc'),\n",
        "]  \n",
        "  strategy = tf.distribute.get_strategy()\n",
        "\n",
        "  with strategy.scope():\n",
        "    ENCODER = TFAutoModel.from_pretrained(\"jplu/tf-xlm-roberta-large\",config= config)\n",
        "    input_ids = tf.keras.layers.Input(shape=(MAX_LEN), dtype=tf.int32)\n",
        "\n",
        "    embedding, sequence_output = ENCODER(input_ids)\n",
        "      #Disini Boleh Di adjust  \n",
        "    logits = embedding[:,0,:]\n",
        "    logits = tf.keras.layers.Dropout(0.8)(logits)\n",
        "    logits = tf.keras.layers.Dense(512,tf.keras.layers.LeakyReLU())(logits)\n",
        "    logits = tf.keras.layers.Dropout(0.4)(logits)\n",
        "    logits = tf.keras.layers.Dense(16,tf.keras.layers.ReLU())(logits)\n",
        "    logits = tf.keras.layers.Dropout(0.3)(logits)\n",
        "    outputs = tf.keras.layers.Dense(units=2, activation='softmax')(logits)\n",
        "    model = tf.keras.Model(inputs=input_ids, outputs=outputs)\n",
        "    #optimizer = tf.keras.optimizers.SGD(lr=0.001,momentum=0.9)\n",
        "    optimizer = tf.keras.optimizers.Adam(lr=0.01)\n",
        "    loss = tf.keras.losses.CategoricalCrossentropy()\n",
        "\n",
        "    for layer in model.layers[:2]:\n",
        "      layer.trainable = False\n",
        "\n",
        "    model.compile(optimizer=optimizer, loss=loss, metrics=METRICS)\n",
        "  return model\n",
        "\n",
        "model = main_model()\n",
        "model.summary()"
      ],
      "execution_count": null,
      "outputs": [
        {
          "output_type": "display_data",
          "data": {
            "application/vnd.jupyter.widget-view+json": {
              "model_id": "fbea163b8554476aa345e6599d65baa6",
              "version_minor": 0,
              "version_major": 2
            },
            "text/plain": [
              "HBox(children=(FloatProgress(value=0.0, description='Downloading', max=513.0, style=ProgressStyle(description_…"
            ]
          },
          "metadata": {
            "tags": []
          }
        },
        {
          "output_type": "stream",
          "text": [
            "\n"
          ],
          "name": "stdout"
        },
        {
          "output_type": "display_data",
          "data": {
            "application/vnd.jupyter.widget-view+json": {
              "model_id": "aa73233ea1594a48b12ddccc56692bb1",
              "version_minor": 0,
              "version_major": 2
            },
            "text/plain": [
              "HBox(children=(FloatProgress(value=0.0, description='Downloading', max=3271420488.0, style=ProgressStyle(descr…"
            ]
          },
          "metadata": {
            "tags": []
          }
        },
        {
          "output_type": "stream",
          "text": [
            "\n"
          ],
          "name": "stdout"
        },
        {
          "output_type": "stream",
          "text": [
            "Some weights of the model checkpoint at jplu/tf-xlm-roberta-large were not used when initializing TFXLMRobertaModel: ['lm_head']\n",
            "- This IS expected if you are initializing TFXLMRobertaModel from the checkpoint of a model trained on another task or with another architecture (e.g. initializing a BertForSequenceClassification model from a BertForPretraining model).\n",
            "- This IS NOT expected if you are initializing TFXLMRobertaModel from the checkpoint of a model that you expect to be exactly identical (initializing a BertForSequenceClassification model from a BertForSequenceClassification model).\n",
            "All the weights of TFXLMRobertaModel were initialized from the model checkpoint at jplu/tf-xlm-roberta-large.\n",
            "If your task is similar to the task the model of the checkpoint was trained on, you can already use TFXLMRobertaModel for predictions without further training.\n"
          ],
          "name": "stderr"
        },
        {
          "output_type": "stream",
          "text": [
            "Model: \"functional_1\"\n",
            "_________________________________________________________________\n",
            "Layer (type)                 Output Shape              Param #   \n",
            "=================================================================\n",
            "input_1 (InputLayer)         [(None, 128)]             0         \n",
            "_________________________________________________________________\n",
            "tfxlm_roberta_model (TFXLMRo ((None, 128, 1024), (None 559890432 \n",
            "_________________________________________________________________\n",
            "tf_op_layer_strided_slice (T [(None, 1024)]            0         \n",
            "_________________________________________________________________\n",
            "dropout_74 (Dropout)         (None, 1024)              0         \n",
            "_________________________________________________________________\n",
            "dense (Dense)                (None, 512)               524800    \n",
            "_________________________________________________________________\n",
            "dropout_75 (Dropout)         (None, 512)               0         \n",
            "_________________________________________________________________\n",
            "dense_1 (Dense)              (None, 16)                8208      \n",
            "_________________________________________________________________\n",
            "dropout_76 (Dropout)         (None, 16)                0         \n",
            "_________________________________________________________________\n",
            "dense_2 (Dense)              (None, 2)                 34        \n",
            "=================================================================\n",
            "Total params: 560,423,474\n",
            "Trainable params: 533,042\n",
            "Non-trainable params: 559,890,432\n",
            "_________________________________________________________________\n"
          ],
          "name": "stdout"
        }
      ]
    },
    {
      "cell_type": "code",
      "metadata": {
        "id": "7sQW4lixLI8O",
        "colab_type": "code",
        "colab": {}
      },
      "source": [
        "#model = main_model()\n",
        "model.load_weights(\"/content/drive/My Drive/Gemastik/XLMRoberta/XLMROBERTA.h5\")"
      ],
      "execution_count": null,
      "outputs": []
    },
    {
      "cell_type": "code",
      "metadata": {
        "id": "o1iLAVhfM70v",
        "colab_type": "code",
        "colab": {}
      },
      "source": [
        "test_dataset = (\n",
        "    tf.data.Dataset\n",
        "    .from_tensor_slices((EncodedDataset))\n",
        "    .batch(32)\n",
        "    .cache()\n",
        ")\n",
        "ans = model.predict((test_dataset)).argmax(axis=-1)"
      ],
      "execution_count": null,
      "outputs": []
    },
    {
      "cell_type": "code",
      "metadata": {
        "id": "uWXkeTdfgEOK",
        "colab_type": "code",
        "colab": {
          "base_uri": "https://localhost:8080/",
          "height": 622
        },
        "outputId": "ae694d01-dd20-4a87-866a-bda6387c006f"
      },
      "source": [
        "df[\"sentiment\"] = ans"
      ],
      "execution_count": null,
      "outputs": [
        {
          "output_type": "execute_result",
          "data": {
            "text/html": [
              "<div>\n",
              "<style scoped>\n",
              "    .dataframe tbody tr th:only-of-type {\n",
              "        vertical-align: middle;\n",
              "    }\n",
              "\n",
              "    .dataframe tbody tr th {\n",
              "        vertical-align: top;\n",
              "    }\n",
              "\n",
              "    .dataframe thead th {\n",
              "        text-align: right;\n",
              "    }\n",
              "</style>\n",
              "<table border=\"1\" class=\"dataframe\">\n",
              "  <thead>\n",
              "    <tr style=\"text-align: right;\">\n",
              "      <th></th>\n",
              "      <th>list_text_after_stop_word</th>\n",
              "      <th>sentiment</th>\n",
              "    </tr>\n",
              "  </thead>\n",
              "  <tbody>\n",
              "    <tr>\n",
              "      <th>0</th>\n",
              "      <td>merasakan pjj gaa suruh ngerjain tugas segambreng</td>\n",
              "      <td>0</td>\n",
              "    </tr>\n",
              "    <tr>\n",
              "      <th>1</th>\n",
              "      <td>pjj ip turun</td>\n",
              "      <td>0</td>\n",
              "    </tr>\n",
              "    <tr>\n",
              "      <th>2</th>\n",
              "      <td>pjj pjj tai anjing</td>\n",
              "      <td>0</td>\n",
              "    </tr>\n",
              "    <tr>\n",
              "      <th>3</th>\n",
              "      <td>woi malas pjj</td>\n",
              "      <td>0</td>\n",
              "    </tr>\n",
              "    <tr>\n",
              "      <th>4</th>\n",
              "      <td>oii ajarin tidur dibawah jam kg tidur anjing t...</td>\n",
              "      <td>0</td>\n",
              "    </tr>\n",
              "    <tr>\n",
              "      <th>5</th>\n",
              "      <td>a gila anjing pjj tidak masuk keotak</td>\n",
              "      <td>0</td>\n",
              "    </tr>\n",
              "    <tr>\n",
              "      <th>6</th>\n",
              "      <td>ngambis ujian tulis berbasis komputer tidak pjj</td>\n",
              "      <td>0</td>\n",
              "    </tr>\n",
              "    <tr>\n",
              "      <th>7</th>\n",
              "      <td>pjj tidak masuk otak</td>\n",
              "      <td>0</td>\n",
              "    </tr>\n",
              "    <tr>\n",
              "      <th>8</th>\n",
              "      <td>anjing bodoh pjj nilai uh remed</td>\n",
              "      <td>0</td>\n",
              "    </tr>\n",
              "    <tr>\n",
              "      <th>9</th>\n",
              "      <td>minus kayaknya nambah karena pjj deh</td>\n",
              "      <td>0</td>\n",
              "    </tr>\n",
              "    <tr>\n",
              "      <th>10</th>\n",
              "      <td>plusnya orang iya enak belajar kepacu belajarn...</td>\n",
              "      <td>0</td>\n",
              "    </tr>\n",
              "    <tr>\n",
              "      <th>11</th>\n",
              "      <td>enaklebih nyaman</td>\n",
              "      <td>0</td>\n",
              "    </tr>\n",
              "    <tr>\n",
              "      <th>12</th>\n",
              "      <td>bantuan kuota internet gratis meringankan beba...</td>\n",
              "      <td>0</td>\n",
              "    </tr>\n",
              "    <tr>\n",
              "      <th>13</th>\n",
              "      <td>keren salah polsek papua sediakan wifi gratis ...</td>\n",
              "      <td>0</td>\n",
              "    </tr>\n",
              "    <tr>\n",
              "      <th>14</th>\n",
              "      <td>kuliah belajar daring semangat iya</td>\n",
              "      <td>0</td>\n",
              "    </tr>\n",
              "    <tr>\n",
              "      <th>15</th>\n",
              "      <td>mahasiswa so far aman aman sih belajarnya tida...</td>\n",
              "      <td>0</td>\n",
              "    </tr>\n",
              "    <tr>\n",
              "      <th>16</th>\n",
              "      <td>problemnya bukan belajar jarak jauh jarak prob...</td>\n",
              "      <td>0</td>\n",
              "    </tr>\n",
              "    <tr>\n",
              "      <th>17</th>\n",
              "      <td>pjj layanan pendidikan aman iya teknologi bela...</td>\n",
              "      <td>0</td>\n",
              "    </tr>\n",
              "    <tr>\n",
              "      <th>18</th>\n",
              "      <td>berkomitmen mendukung program mengajar belajar...</td>\n",
              "      <td>0</td>\n",
              "    </tr>\n",
              "    <tr>\n",
              "      <th>19</th>\n",
              "      <td>sdm mengisi insentifnya terang pribadi setuju ...</td>\n",
              "      <td>0</td>\n",
              "    </tr>\n",
              "  </tbody>\n",
              "</table>\n",
              "</div>"
            ],
            "text/plain": [
              "                            list_text_after_stop_word  sentiment\n",
              "0   merasakan pjj gaa suruh ngerjain tugas segambreng          0\n",
              "1                                        pjj ip turun          0\n",
              "2                                  pjj pjj tai anjing          0\n",
              "3                                       woi malas pjj          0\n",
              "4   oii ajarin tidur dibawah jam kg tidur anjing t...          0\n",
              "5                a gila anjing pjj tidak masuk keotak          0\n",
              "6     ngambis ujian tulis berbasis komputer tidak pjj          0\n",
              "7                                pjj tidak masuk otak          0\n",
              "8                     anjing bodoh pjj nilai uh remed          0\n",
              "9                minus kayaknya nambah karena pjj deh          0\n",
              "10  plusnya orang iya enak belajar kepacu belajarn...          0\n",
              "11                                   enaklebih nyaman          0\n",
              "12  bantuan kuota internet gratis meringankan beba...          0\n",
              "13  keren salah polsek papua sediakan wifi gratis ...          0\n",
              "14                 kuliah belajar daring semangat iya          0\n",
              "15  mahasiswa so far aman aman sih belajarnya tida...          0\n",
              "16  problemnya bukan belajar jarak jauh jarak prob...          0\n",
              "17  pjj layanan pendidikan aman iya teknologi bela...          0\n",
              "18  berkomitmen mendukung program mengajar belajar...          0\n",
              "19  sdm mengisi insentifnya terang pribadi setuju ...          0"
            ]
          },
          "metadata": {
            "tags": []
          },
          "execution_count": 11
        }
      ]
    },
    {
      "cell_type": "code",
      "metadata": {
        "id": "aokdseBoNx-2",
        "colab_type": "code",
        "colab": {
          "base_uri": "https://localhost:8080/",
          "height": 593
        },
        "outputId": "6afae506-00cf-4d0c-c60c-b8f797b4bab1"
      },
      "source": [
        "Matanajwa = pd.read_excel(\"/content/drive/My Drive/Gemastik/XLMRoberta/mataNajwa.xlsx\")\n",
        "Matanajwa"
      ],
      "execution_count": null,
      "outputs": [
        {
          "output_type": "execute_result",
          "data": {
            "text/html": [
              "<div>\n",
              "<style scoped>\n",
              "    .dataframe tbody tr th:only-of-type {\n",
              "        vertical-align: middle;\n",
              "    }\n",
              "\n",
              "    .dataframe tbody tr th {\n",
              "        vertical-align: top;\n",
              "    }\n",
              "\n",
              "    .dataframe thead th {\n",
              "        text-align: right;\n",
              "    }\n",
              "</style>\n",
              "<table border=\"1\" class=\"dataframe\">\n",
              "  <thead>\n",
              "    <tr style=\"text-align: right;\">\n",
              "      <th></th>\n",
              "      <th>Unnamed: 0</th>\n",
              "      <th>no</th>\n",
              "      <th>text</th>\n",
              "      <th>list_text_after_stop_word</th>\n",
              "      <th>hasil_akhir_preprocessing</th>\n",
              "    </tr>\n",
              "  </thead>\n",
              "  <tbody>\n",
              "    <tr>\n",
              "      <th>0</th>\n",
              "      <td>0</td>\n",
              "      <td>1</td>\n",
              "      <td>['sial', 'belajarnya', 'menit', 'main', 'perma...</td>\n",
              "      <td>sial belajarnya menit main permainan lain-lain...</td>\n",
              "      <td>sial ajar menit main main lain nya jambayangin...</td>\n",
              "    </tr>\n",
              "    <tr>\n",
              "      <th>1</th>\n",
              "      <td>1</td>\n",
              "      <td>11</td>\n",
              "      <td>['sekolah', 'tidak', 'pulsakuota', 'gratis', '...</td>\n",
              "      <td>sekolah tidak pulsakuota gratis sekolah</td>\n",
              "      <td>sekolah tidak pulsakuota gratis sekolah</td>\n",
              "    </tr>\n",
              "    <tr>\n",
              "      <th>2</th>\n",
              "      <td>2</td>\n",
              "      <td>2</td>\n",
              "      <td>['mbak', 'nanatidak', 'pulsatolong', 'mentripj...</td>\n",
              "      <td>mbak nanatidak pulsatolong mentripjj tidak efe...</td>\n",
              "      <td>mbak nanatidak pulsatolong mentripjj tidak efe...</td>\n",
              "    </tr>\n",
              "    <tr>\n",
              "      <th>3</th>\n",
              "      <td>3</td>\n",
              "      <td>3</td>\n",
              "      <td>['google', 'pandai', 'guru', 'guru', 'kasih', ...</td>\n",
              "      <td>google pandai guru guru kasih sayang mendidik ...</td>\n",
              "      <td>google pandai guru guru kasih sayang didik mur...</td>\n",
              "    </tr>\n",
              "    <tr>\n",
              "      <th>4</th>\n",
              "      <td>4</td>\n",
              "      <td>4</td>\n",
              "      <td>['mbak', 'najwa', 'tolong', 'mas', 'nadiem', '...</td>\n",
              "      <td>mbak najwa tolong mas nadiem sekolah tidak kuo...</td>\n",
              "      <td>mbak najwa tolong mas nadiem sekolah tidak kuo...</td>\n",
              "    </tr>\n",
              "    <tr>\n",
              "      <th>5</th>\n",
              "      <td>5</td>\n",
              "      <td>5</td>\n",
              "      <td>['sekolah', 'daring', 'mahasiswa', 'down']</td>\n",
              "      <td>sekolah daring mahasiswa down</td>\n",
              "      <td>sekolah daring mahasiswa down</td>\n",
              "    </tr>\n",
              "    <tr>\n",
              "      <th>6</th>\n",
              "      <td>6</td>\n",
              "      <td>6</td>\n",
              "      <td>['guru', 'matematika', 'kelas', 'sd', 'menangi...</td>\n",
              "      <td>guru matematika kelas sd menangis kunjungi sis...</td>\n",
              "      <td>guru matematika kelas sd menang kunjung siswa tes</td>\n",
              "    </tr>\n",
              "    <tr>\n",
              "      <th>7</th>\n",
              "      <td>7</td>\n",
              "      <td>7</td>\n",
              "      <td>['mas', 'menteri', 'sdh', 'berusaha', 'mmbantu...</td>\n",
              "      <td>mas menteri sdh berusaha mmbantu meringankan k...</td>\n",
              "      <td>mas menteri sdh usaha mmbantu ringan sulit mah...</td>\n",
              "    </tr>\n",
              "    <tr>\n",
              "      <th>8</th>\n",
              "      <td>8</td>\n",
              "      <td>8</td>\n",
              "      <td>['kemendikbud', 'kolaborasi', 'kementrian', 'd...</td>\n",
              "      <td>kemendikbud kolaborasi kementrian desa wifi re...</td>\n",
              "      <td>kemendikbud kolaborasi tri desa wifi retweet m...</td>\n",
              "    </tr>\n",
              "    <tr>\n",
              "      <th>9</th>\n",
              "      <td>9</td>\n",
              "      <td>9</td>\n",
              "      <td>['menggapai', 'pendidikan', 'edukasi', 'kurang...</td>\n",
              "      <td>menggapai pendidikan edukasi kurangi tayangan ...</td>\n",
              "      <td>gapai didik edukasi kurang tayang norak tvting...</td>\n",
              "    </tr>\n",
              "    <tr>\n",
              "      <th>10</th>\n",
              "      <td>10</td>\n",
              "      <td>10</td>\n",
              "      <td>['undang', 'berdebar', 'kurikulum', 'buku', 'l...</td>\n",
              "      <td>undang berdebar kurikulum buku lks tdak manfat</td>\n",
              "      <td>undang debar kurikulum buku lks tdak manfat</td>\n",
              "    </tr>\n",
              "    <tr>\n",
              "      <th>11</th>\n",
              "      <td>11</td>\n",
              "      <td>11</td>\n",
              "      <td>['subsidi', 'pulsakuota', 'ekonomi', 'keluarga...</td>\n",
              "      <td>subsidi pulsakuota ekonomi keluarga stabil</td>\n",
              "      <td>subsidi pulsakuota ekonomi keluarga stabil</td>\n",
              "    </tr>\n",
              "    <tr>\n",
              "      <th>12</th>\n",
              "      <td>12</td>\n",
              "      <td>12</td>\n",
              "      <td>['celah', 'korupsinya', 'tidak', 'terkendali']</td>\n",
              "      <td>celah korupsinya tidak terkendali</td>\n",
              "      <td>celah korupsi tidak kendali</td>\n",
              "    </tr>\n",
              "    <tr>\n",
              "      <th>13</th>\n",
              "      <td>13</td>\n",
              "      <td>13</td>\n",
              "      <td>['pulsasinyal', 'nya', 'susah']</td>\n",
              "      <td>pulsasinyal nya susah</td>\n",
              "      <td>pulsasinyal nya susah</td>\n",
              "    </tr>\n",
              "    <tr>\n",
              "      <th>14</th>\n",
              "      <td>14</td>\n",
              "      <td>14</td>\n",
              "      <td>['alhamdulillah', 'semoga', 'keringanan', 'sum...</td>\n",
              "      <td>alhamdulillah semoga keringanan sumbangan pemb...</td>\n",
              "      <td>alhamdulillah moga ringan sumbang bin didik se...</td>\n",
              "    </tr>\n",
              "    <tr>\n",
              "      <th>15</th>\n",
              "      <td>15</td>\n",
              "      <td>15</td>\n",
              "      <td>['mentri', 'kebijakan', 'anak', 'malas']</td>\n",
              "      <td>mentri kebijakan anak malas</td>\n",
              "      <td>tri bijak anak malas</td>\n",
              "    </tr>\n",
              "    <tr>\n",
              "      <th>16</th>\n",
              "      <td>16</td>\n",
              "      <td>16</td>\n",
              "      <td>['semu', 'programnya', 'bagus', 'pelaksanaan',...</td>\n",
              "      <td>semu programnya bagus pelaksanaan maksimal</td>\n",
              "      <td>semu program bagus laksana maksimal</td>\n",
              "    </tr>\n",
              "    <tr>\n",
              "      <th>17</th>\n",
              "      <td>17</td>\n",
              "      <td>17</td>\n",
              "      <td>['sekolah', 'ditutup', 'mall', 'dibukaya', 'an...</td>\n",
              "      <td>sekolah ditutup mall dibukaya anak sekolah mall</td>\n",
              "      <td>sekolah tutup mall dibukaya anak sekolah mall</td>\n",
              "    </tr>\n",
              "    <tr>\n",
              "      <th>18</th>\n",
              "      <td>18</td>\n",
              "      <td>18</td>\n",
              "      <td>['dana', 'bos', 'operasional', 'sekolah', 'sek...</td>\n",
              "      <td>dana bos operasional sekolah sekolah swasta da...</td>\n",
              "      <td>dana bos operasional sekolah sekolah swasta da...</td>\n",
              "    </tr>\n",
              "  </tbody>\n",
              "</table>\n",
              "</div>"
            ],
            "text/plain": [
              "    Unnamed: 0  ...                          hasil_akhir_preprocessing\n",
              "0            0  ...  sial ajar menit main main lain nya jambayangin...\n",
              "1            1  ...            sekolah tidak pulsakuota gratis sekolah\n",
              "2            2  ...  mbak nanatidak pulsatolong mentripjj tidak efe...\n",
              "3            3  ...  google pandai guru guru kasih sayang didik mur...\n",
              "4            4  ...  mbak najwa tolong mas nadiem sekolah tidak kuo...\n",
              "5            5  ...                      sekolah daring mahasiswa down\n",
              "6            6  ...  guru matematika kelas sd menang kunjung siswa tes\n",
              "7            7  ...  mas menteri sdh usaha mmbantu ringan sulit mah...\n",
              "8            8  ...  kemendikbud kolaborasi tri desa wifi retweet m...\n",
              "9            9  ...  gapai didik edukasi kurang tayang norak tvting...\n",
              "10          10  ...        undang debar kurikulum buku lks tdak manfat\n",
              "11          11  ...         subsidi pulsakuota ekonomi keluarga stabil\n",
              "12          12  ...                        celah korupsi tidak kendali\n",
              "13          13  ...                              pulsasinyal nya susah\n",
              "14          14  ...  alhamdulillah moga ringan sumbang bin didik se...\n",
              "15          15  ...                               tri bijak anak malas\n",
              "16          16  ...                semu program bagus laksana maksimal\n",
              "17          17  ...      sekolah tutup mall dibukaya anak sekolah mall\n",
              "18          18  ...  dana bos operasional sekolah sekolah swasta da...\n",
              "\n",
              "[19 rows x 5 columns]"
            ]
          },
          "metadata": {
            "tags": []
          },
          "execution_count": 20
        }
      ]
    },
    {
      "cell_type": "code",
      "metadata": {
        "id": "Sun6pqzuQGl9",
        "colab_type": "code",
        "colab": {
          "base_uri": "https://localhost:8080/",
          "height": 335
        },
        "outputId": "e4cb6356-ec4a-47cb-b822-28736780dcce"
      },
      "source": [
        "CNN = pd.read_excel(\"/content/drive/My Drive/Gemastik/XLMRoberta/CNN.xlsx\")\n",
        "CNN "
      ],
      "execution_count": null,
      "outputs": [
        {
          "output_type": "execute_result",
          "data": {
            "text/html": [
              "<div>\n",
              "<style scoped>\n",
              "    .dataframe tbody tr th:only-of-type {\n",
              "        vertical-align: middle;\n",
              "    }\n",
              "\n",
              "    .dataframe tbody tr th {\n",
              "        vertical-align: top;\n",
              "    }\n",
              "\n",
              "    .dataframe thead th {\n",
              "        text-align: right;\n",
              "    }\n",
              "</style>\n",
              "<table border=\"1\" class=\"dataframe\">\n",
              "  <thead>\n",
              "    <tr style=\"text-align: right;\">\n",
              "      <th></th>\n",
              "      <th>Unnamed: 0</th>\n",
              "      <th>no</th>\n",
              "      <th>text</th>\n",
              "      <th>list_text_after_stop_word</th>\n",
              "      <th>hasil_akhir_preprocessing</th>\n",
              "    </tr>\n",
              "  </thead>\n",
              "  <tbody>\n",
              "    <tr>\n",
              "      <th>0</th>\n",
              "      <td>0</td>\n",
              "      <td>1</td>\n",
              "      <td>['tugas', 'tidak', 'signal', 'guru', 'rumah', ...</td>\n",
              "      <td>tugas tidak signal guru rumah siswa memebri tu...</td>\n",
              "      <td>tugas tidak signal guru rumah siswa memebri tu...</td>\n",
              "    </tr>\n",
              "    <tr>\n",
              "      <th>1</th>\n",
              "      <td>1</td>\n",
              "      <td>2</td>\n",
              "      <td>['belajar', 'rumah', 'aturan', 'pemerintah', '...</td>\n",
              "      <td>belajar rumah aturan pemerintah pemerintah yng...</td>\n",
              "      <td>ajar rumah atur perintah perintah yng tanggung...</td>\n",
              "    </tr>\n",
              "    <tr>\n",
              "      <th>2</th>\n",
              "      <td>2</td>\n",
              "      <td>3</td>\n",
              "      <td>['tidak', 'setuju', 'belajar', 'onlinekarna', ...</td>\n",
              "      <td>tidak setuju belajar onlinekarna lihat belajar...</td>\n",
              "      <td>tidak tuju ajar onlinekarna lihat ajar bukan a...</td>\n",
              "    </tr>\n",
              "    <tr>\n",
              "      <th>3</th>\n",
              "      <td>3</td>\n",
              "      <td>4</td>\n",
              "      <td>['semoga', 'cepat', 'hilang', 'covid', 'semang...</td>\n",
              "      <td>semoga cepat hilang covid semangat belajarnya iya</td>\n",
              "      <td>moga cepat hilang covid semangat ajar iya</td>\n",
              "    </tr>\n",
              "    <tr>\n",
              "      <th>4</th>\n",
              "      <td>4</td>\n",
              "      <td>5</td>\n",
              "      <td>['alhamdulillah', 'lulus', 'sekolah', 'langsun...</td>\n",
              "      <td>alhamdulillah lulus sekolah langsung intel</td>\n",
              "      <td>alhamdulillah lulus sekolah langsung intel</td>\n",
              "    </tr>\n",
              "    <tr>\n",
              "      <th>5</th>\n",
              "      <td>5</td>\n",
              "      <td>6</td>\n",
              "      <td>['berjuang', 'kekurangan', 'patah', 'semangat'...</td>\n",
              "      <td>berjuang kekurangan patah semangat belajar</td>\n",
              "      <td>juang kurang patah semangat ajar</td>\n",
              "    </tr>\n",
              "    <tr>\n",
              "      <th>6</th>\n",
              "      <td>6</td>\n",
              "      <td>7</td>\n",
              "      <td>['sekolah', 'serius', 'bukan', 'ngasi', 'tugas...</td>\n",
              "      <td>sekolah serius bukan ngasi tugas pemaparan tidak</td>\n",
              "      <td>sekolah serius bukan ngasi tugas papar tidak</td>\n",
              "    </tr>\n",
              "    <tr>\n",
              "      <th>7</th>\n",
              "      <td>7</td>\n",
              "      <td>8</td>\n",
              "      <td>['bukti', 'anak', 'bangsa', 'kreatip', 'menyon...</td>\n",
              "      <td>bukti anak bangsa kreatip menyongsong industri...</td>\n",
              "      <td>bukti anak bangsa kreatip songsong industriali...</td>\n",
              "    </tr>\n",
              "    <tr>\n",
              "      <th>8</th>\n",
              "      <td>8</td>\n",
              "      <td>9</td>\n",
              "      <td>['daerah', 'terpencil', 'boro', 'stasiun', 'tv...</td>\n",
              "      <td>daerah terpencil boro stasiun tvnyari sinyal a...</td>\n",
              "      <td>daerah pencil boro stasiun tvnyari sinyal aja ...</td>\n",
              "    </tr>\n",
              "    <tr>\n",
              "      <th>9</th>\n",
              "      <td>9</td>\n",
              "      <td>10</td>\n",
              "      <td>['dung', 'pemerintah']</td>\n",
              "      <td>dung pemerintah</td>\n",
              "      <td>dung perintah</td>\n",
              "    </tr>\n",
              "  </tbody>\n",
              "</table>\n",
              "</div>"
            ],
            "text/plain": [
              "   Unnamed: 0  ...                          hasil_akhir_preprocessing\n",
              "0           0  ...  tugas tidak signal guru rumah siswa memebri tu...\n",
              "1           1  ...  ajar rumah atur perintah perintah yng tanggung...\n",
              "2           2  ...  tidak tuju ajar onlinekarna lihat ajar bukan a...\n",
              "3           3  ...          moga cepat hilang covid semangat ajar iya\n",
              "4           4  ...         alhamdulillah lulus sekolah langsung intel\n",
              "5           5  ...                   juang kurang patah semangat ajar\n",
              "6           6  ...       sekolah serius bukan ngasi tugas papar tidak\n",
              "7           7  ...  bukti anak bangsa kreatip songsong industriali...\n",
              "8           8  ...  daerah pencil boro stasiun tvnyari sinyal aja ...\n",
              "9           9  ...                                      dung perintah\n",
              "\n",
              "[10 rows x 5 columns]"
            ]
          },
          "metadata": {
            "tags": []
          },
          "execution_count": 22
        }
      ]
    },
    {
      "cell_type": "code",
      "metadata": {
        "id": "EZn_IcCIhO_T",
        "colab_type": "code",
        "colab": {
          "base_uri": "https://localhost:8080/",
          "height": 86
        },
        "outputId": "2220f099-aef8-40c9-b0f7-e63f4cb089a4"
      },
      "source": [
        "EncodedNajwa =  regular_encode(Matanajwa[\"list_text_after_stop_word\"].values)\n",
        "EncodedCnn = regular_encode(CNN[\"list_text_after_stop_word\"].values)\n",
        "\n",
        "EncodedNajwa.shape , EncodedCnn.shape"
      ],
      "execution_count": null,
      "outputs": [
        {
          "output_type": "stream",
          "text": [
            "/usr/local/lib/python3.6/dist-packages/transformers/tokenization_utils_base.py:1770: FutureWarning: The `pad_to_max_length` argument is deprecated and will be removed in a future version, use `padding=True` or `padding='longest'` to pad to the longest sequence in the batch, or use `padding='max_length'` to pad to a max length. In this case, you can give a specific length with `max_length` (e.g. `max_length=45`) or leave max_length to None to pad to the maximal input size of the model (e.g. 512 for Bert).\n",
            "  FutureWarning,\n"
          ],
          "name": "stderr"
        },
        {
          "output_type": "execute_result",
          "data": {
            "text/plain": [
              "((19, 128), (10, 128))"
            ]
          },
          "metadata": {
            "tags": []
          },
          "execution_count": 23
        }
      ]
    },
    {
      "cell_type": "code",
      "metadata": {
        "id": "c-rNQMfniIBq",
        "colab_type": "code",
        "colab": {}
      },
      "source": [
        "test_dataset_Najwa= (\n",
        "    tf.data.Dataset\n",
        "    .from_tensor_slices((EncodedNajwa))\n",
        "    .batch(32)\n",
        "    .cache()\n",
        ")\n",
        "ans = model.predict((test_dataset_Najwa)).argmax(axis=-1)"
      ],
      "execution_count": null,
      "outputs": []
    },
    {
      "cell_type": "code",
      "metadata": {
        "id": "kKhSafmZiX3m",
        "colab_type": "code",
        "colab": {}
      },
      "source": [
        "Matanajwa[\"sentiment\"] = ans"
      ],
      "execution_count": null,
      "outputs": []
    },
    {
      "cell_type": "code",
      "metadata": {
        "id": "mFZrLQ4EiReN",
        "colab_type": "code",
        "colab": {}
      },
      "source": [
        "test_dataset_CNN= (\n",
        "    tf.data.Dataset\n",
        "    .from_tensor_slices((EncodedCnn))\n",
        "    .batch(32)\n",
        "    .cache()\n",
        ")\n",
        "ans = model.predict((test_dataset_CNN)).argmax(axis=-1)"
      ],
      "execution_count": null,
      "outputs": []
    },
    {
      "cell_type": "code",
      "metadata": {
        "id": "1zkGRhi6ipZw",
        "colab_type": "code",
        "colab": {}
      },
      "source": [
        "CNN[\"sentiment\"] = ans"
      ],
      "execution_count": null,
      "outputs": []
    },
    {
      "cell_type": "code",
      "metadata": {
        "id": "UlXup5DClTsa",
        "colab_type": "code",
        "colab": {
          "base_uri": "https://localhost:8080/",
          "height": 295
        },
        "outputId": "2b92414e-7210-4652-edbb-90cce0e5b650"
      },
      "source": [
        ""
      ],
      "execution_count": null,
      "outputs": [
        {
          "output_type": "execute_result",
          "data": {
            "text/plain": [
              "<matplotlib.axes._subplots.AxesSubplot at 0x7f84e85328d0>"
            ]
          },
          "metadata": {
            "tags": []
          },
          "execution_count": 52
        },
        {
          "output_type": "display_data",
          "data": {
            "image/png": "[encoded data removed]",
            "text/plain": [
              "<Figure size 432x288 with 1 Axes>"
            ]
          },
          "metadata": {
            "tags": [],
            "needs_background": "light"
          }
        }
      ]
    },
    {
      "cell_type": "code",
      "metadata": {
        "id": "Wke4MJKNiuna",
        "colab_type": "code",
        "colab": {
          "base_uri": "https://localhost:8080/",
          "height": 473
        },
        "outputId": "8910ea35-0e54-47cb-dfb7-a1e16c7de5a2"
      },
      "source": [
        "fig,axes1 = plt.subplots(1,1,figsize=(6,7))\n",
        "sns.countplot(x = \"sentiment\" , data = df,ax = axes1,color=\"green\")\n",
        "axes1.set(xlabel = \"Negative\") ; axes1.set(title = \" PJJ Sentiment On Twitter\") ; axes1.set(ylabel = \"Freq\")\n"
      ],
      "execution_count": null,
      "outputs": [
        {
          "output_type": "execute_result",
          "data": {
            "text/plain": [
              "[Text(0, 0.5, 'Freq')]"
            ]
          },
          "metadata": {
            "tags": []
          },
          "execution_count": 64
        },
        {
          "output_type": "display_data",
          "data": {
            "image/png": "[encoded data removed]",
            "text/plain": [
              "<Figure size 432x504 with 1 Axes>"
            ]
          },
          "metadata": {
            "tags": [],
            "needs_background": "light"
          }
        }
      ]
    },
    {
      "cell_type": "code",
      "metadata": {
        "id": "P0Tw5OErk1cP",
        "colab_type": "code",
        "colab": {
          "base_uri": "https://localhost:8080/",
          "height": 473
        },
        "outputId": "22e56970-8fc9-4de4-8ff9-b181a0848a5a"
      },
      "source": [
        "fig,axes2 = plt.subplots(1,1,figsize=(6,7))\n",
        "sns.countplot(x = \"sentiment\" , data = Matanajwa,ax = axes2,color=\"green\")\n",
        "axes2.set(xlabel = \"Negative\") ; axes2.set(title = \" PJJ Sentiment On Mata Najwaz\") ; axes2.set(ylabel = \"Freq\")\n",
        "\n"
      ],
      "execution_count": null,
      "outputs": [
        {
          "output_type": "execute_result",
          "data": {
            "text/plain": [
              "[Text(0, 0.5, 'Freq')]"
            ]
          },
          "metadata": {
            "tags": []
          },
          "execution_count": 68
        },
        {
          "output_type": "display_data",
          "data": {
            "image/png": "[encoded data removed]",
            "text/plain": [
              "<Figure size 432x504 with 1 Axes>"
            ]
          },
          "metadata": {
            "tags": [],
            "needs_background": "light"
          }
        }
      ]
    },
    {
      "cell_type": "code",
      "metadata": {
        "id": "4yRqzxJ8msBH",
        "colab_type": "code",
        "colab": {
          "base_uri": "https://localhost:8080/",
          "height": 473
        },
        "outputId": "c123cc1e-5428-4d33-b9ae-fd83f886cd6f"
      },
      "source": [
        "fig,axes3 = plt.subplots(1,1,figsize=(6,7))\n",
        "sns.countplot(x = \"sentiment\" , data = CNN,ax = axes3,color=\"green\")\n",
        "axes3.set(xlabel = \"Negative\") ; axes3.set(title = \" PJJ Sentiment On CNN\") ; axes3.set(ylabel = \"Freq\")\n"
      ],
      "execution_count": null,
      "outputs": [
        {
          "output_type": "execute_result",
          "data": {
            "text/plain": [
              "[Text(0, 0.5, 'Freq')]"
            ]
          },
          "metadata": {
            "tags": []
          },
          "execution_count": 67
        },
        {
          "output_type": "display_data",
          "data": {
            "image/png": "[encoded data removed]",
            "text/plain": [
              "<Figure size 432x504 with 1 Axes>"
            ]
          },
          "metadata": {
            "tags": [],
            "needs_background": "light"
          }
        }
      ]
    }
  ]
}